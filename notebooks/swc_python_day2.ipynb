{
 "cells": [
  {
   "cell_type": "code",
   "execution_count": 9,
   "metadata": {},
   "outputs": [
    {
     "name": "stdout",
     "output_type": "stream",
     "text": [
      "Munk\n"
     ]
    }
   ],
   "source": [
    "word = 'Walter Munk'\n",
    "print(word[7:11])"
   ]
  },
  {
   "cell_type": "code",
   "execution_count": 8,
   "metadata": {},
   "outputs": [
    {
     "name": "stdout",
     "output_type": "stream",
     "text": [
      "Munk\n"
     ]
    }
   ],
   "source": [
    "print(word[-4:])"
   ]
  },
  {
   "cell_type": "code",
   "execution_count": 10,
   "metadata": {},
   "outputs": [
    {
     "name": "stdout",
     "output_type": "stream",
     "text": [
      "Walter\n"
     ]
    }
   ],
   "source": [
    "print(word[:-5])"
   ]
  },
  {
   "cell_type": "code",
   "execution_count": 15,
   "metadata": {},
   "outputs": [
    {
     "name": "stdout",
     "output_type": "stream",
     "text": [
      "desserts\n"
     ]
    }
   ],
   "source": [
    "string = 'stressed'\n",
    "print(string[::-1])"
   ]
  },
  {
   "cell_type": "code",
   "execution_count": 16,
   "metadata": {},
   "outputs": [
    {
     "name": "stdout",
     "output_type": "stream",
     "text": [
      "knuM retlaW\n"
     ]
    }
   ],
   "source": [
    "print(word[::-1])"
   ]
  },
  {
   "cell_type": "code",
   "execution_count": 19,
   "metadata": {},
   "outputs": [
    {
     "name": "stdout",
     "output_type": "stream",
     "text": [
      "W\n",
      "a\n",
      "l\n",
      "t\n",
      "e\n",
      "r\n",
      " \n",
      "M\n",
      "u\n",
      "n\n",
      "k\n"
     ]
    }
   ],
   "source": [
    "for char in word:\n",
    "    print(char)"
   ]
  },
  {
   "cell_type": "code",
   "execution_count": 27,
   "metadata": {},
   "outputs": [
    {
     "name": "stdout",
     "output_type": "stream",
     "text": [
      "5\n",
      "25\n",
      "125\n"
     ]
    }
   ],
   "source": [
    "value = 1\n",
    "for i in range(1,4):\n",
    "    value = value*5\n",
    "    print(value)"
   ]
  },
  {
   "cell_type": "code",
   "execution_count": 35,
   "metadata": {},
   "outputs": [
    {
     "name": "stdout",
     "output_type": "stream",
     "text": [
      "55\n"
     ]
    }
   ],
   "source": [
    "total = 0\n",
    "for number in range(10):\n",
    "    total = number + 1 + total\n",
    "print(total)"
   ]
  },
  {
   "cell_type": "code",
   "execution_count": 41,
   "metadata": {},
   "outputs": [
    {
     "name": "stdout",
     "output_type": "stream",
     "text": [
      "12\n"
     ]
    }
   ],
   "source": [
    "total = 0\n",
    "for word in ['red', 'green', 'blue']:\n",
    "    total = total + len(word)\n",
    "print(total)"
   ]
  },
  {
   "cell_type": "code",
   "execution_count": 42,
   "metadata": {},
   "outputs": [
    {
     "name": "stdout",
     "output_type": "stream",
     "text": [
      "primes are: [1, 3, 5, 7]\n"
     ]
    }
   ],
   "source": [
    "my_list = [1,3,5,7]\n",
    "print('primes are:', my_list)"
   ]
  },
  {
   "cell_type": "code",
   "execution_count": 48,
   "metadata": {},
   "outputs": [
    {
     "name": "stdout",
     "output_type": "stream",
     "text": [
      "first: 1 last: 7\n"
     ]
    }
   ],
   "source": [
    "print('first:', my_list[0], 'last:', my_list[-1])"
   ]
  },
  {
   "cell_type": "code",
   "execution_count": 52,
   "metadata": {},
   "outputs": [
    {
     "name": "stdout",
     "output_type": "stream",
     "text": [
      "1\n",
      "4\n",
      "9\n",
      "16\n"
     ]
    }
   ],
   "source": [
    "total = 0\n",
    "for i in my_list:\n",
    "    total = total + i\n",
    "    print(total)"
   ]
  },
  {
   "cell_type": "code",
   "execution_count": 54,
   "metadata": {},
   "outputs": [
    {
     "name": "stdout",
     "output_type": "stream",
     "text": [
      "oceanographers were: ['Munk', 'Keling', 'Sverdrup']\n",
      "oceanographers are now: ['Munk', 'Keeling', 'Sverdrup']\n"
     ]
    }
   ],
   "source": [
    "oceanographers = ['Munk', 'Keling', 'Sverdrup']\n",
    "print('oceanographers were:', oceanographers)\n",
    "oceanographers[1] = 'Keeling'\n",
    "print('oceanographers are now:', oceanographers)"
   ]
  },
  {
   "cell_type": "code",
   "execution_count": 57,
   "metadata": {},
   "outputs": [
    {
     "name": "stdout",
     "output_type": "stream",
     "text": [
      "name was: Ralph Kellini\n",
      "name is now: Ralph Keeling\n"
     ]
    }
   ],
   "source": [
    "name = 'Ralph Kellini'\n",
    "print('name was:', name)\n",
    "name = 'Ralph Keeling'\n",
    "print('name is now:', name)"
   ]
  },
  {
   "cell_type": "code",
   "execution_count": 58,
   "metadata": {},
   "outputs": [],
   "source": [
    "grades = ['SIO1', 9.9, 'SIO2', 7.5, 'SIO3', 8.0]"
   ]
  },
  {
   "cell_type": "code",
   "execution_count": 59,
   "metadata": {},
   "outputs": [
    {
     "name": "stdout",
     "output_type": "stream",
     "text": [
      "['SIO1', 9.9, 'SIO2', 7.5, 'SIO3', 8.0]\n"
     ]
    }
   ],
   "source": [
    "print(grades)"
   ]
  },
  {
   "cell_type": "code",
   "execution_count": 60,
   "metadata": {},
   "outputs": [
    {
     "name": "stdout",
     "output_type": "stream",
     "text": [
      "['peppers', 'onions', 'jalapenos', 'tomatoes']\n"
     ]
    }
   ],
   "source": [
    "salsa = ['peppers', 'onions', 'jalapenos', 'tomatoes']\n",
    "print(salsa)"
   ]
  },
  {
   "cell_type": "code",
   "execution_count": 61,
   "metadata": {},
   "outputs": [
    {
     "name": "stdout",
     "output_type": "stream",
     "text": [
      "['peppers', 'onions', 'jalapenos', 'tomatoes']\n"
     ]
    }
   ],
   "source": [
    "lukes_salsa = salsa\n",
    "print(lukes_salsa)"
   ]
  },
  {
   "cell_type": "code",
   "execution_count": 62,
   "metadata": {},
   "outputs": [],
   "source": [
    "lukes_salsa[2] = 'cilantro'"
   ]
  },
  {
   "cell_type": "code",
   "execution_count": 63,
   "metadata": {},
   "outputs": [
    {
     "name": "stdout",
     "output_type": "stream",
     "text": [
      "['peppers', 'onions', 'cilantro', 'tomatoes']\n"
     ]
    }
   ],
   "source": [
    "print(lukes_salsa)"
   ]
  },
  {
   "cell_type": "code",
   "execution_count": 64,
   "metadata": {},
   "outputs": [
    {
     "name": "stdout",
     "output_type": "stream",
     "text": [
      "['peppers', 'onions', 'cilantro', 'tomatoes']\n"
     ]
    }
   ],
   "source": [
    "print(salsa)"
   ]
  },
  {
   "cell_type": "code",
   "execution_count": 65,
   "metadata": {},
   "outputs": [
    {
     "name": "stdout",
     "output_type": "stream",
     "text": [
      "['peppers', 'onions', 'jalapenos', 'tomatoes']\n",
      "['peppers', 'onions', 'cilantro', 'tomatoes']\n"
     ]
    }
   ],
   "source": [
    "my_salsa = ['peppers', 'onions', 'jalapenos', 'tomatoes']\n",
    "lukes_salsa = list(my_salsa)\n",
    "lukes_salsa[2] = 'cilantro'\n",
    "print(my_salsa)\n",
    "print(lukes_salsa)"
   ]
  },
  {
   "cell_type": "code",
   "execution_count": 74,
   "metadata": {},
   "outputs": [
    {
     "name": "stdout",
     "output_type": "stream",
     "text": [
      "0\n",
      "1\n",
      "3\n",
      "6\n",
      "10\n",
      "15\n"
     ]
    }
   ],
   "source": [
    "total = 0\n",
    "for i in range(6):\n",
    "    total = total + i\n",
    "    print(total)"
   ]
  },
  {
   "cell_type": "code",
   "execution_count": 66,
   "metadata": {},
   "outputs": [
    {
     "name": "stdout",
     "output_type": "stream",
     "text": [
      "[['density', 'CTD'], ['velocity', 'ADCP'], ['chlorophyll', 'fluorometer']]\n"
     ]
    }
   ],
   "source": [
    "cruise = [['density', 'CTD'],['velocity', 'ADCP'],['chlorophyll', 'fluorometer']]\n",
    "print(cruise)"
   ]
  },
  {
   "cell_type": "code",
   "execution_count": 67,
   "metadata": {},
   "outputs": [
    {
     "name": "stdout",
     "output_type": "stream",
     "text": [
      "['density', 'CTD']\n"
     ]
    }
   ],
   "source": [
    "print(cruise[0])"
   ]
  },
  {
   "cell_type": "code",
   "execution_count": 76,
   "metadata": {},
   "outputs": [
    {
     "name": "stdout",
     "output_type": "stream",
     "text": [
      "fluorometer\n"
     ]
    }
   ],
   "source": [
    "print(cruise[-1][-1])"
   ]
  },
  {
   "cell_type": "code",
   "execution_count": 77,
   "metadata": {},
   "outputs": [
    {
     "name": "stdout",
     "output_type": "stream",
     "text": [
      "[['density', 'CTD'], ['velocity', 'ADCP'], ['chlorophyll', 'fluorometer'], ['salinity', 'CTD']]\n"
     ]
    }
   ],
   "source": [
    "cruise.append(['salinity', 'CTD'])\n",
    "print(cruise)"
   ]
  },
  {
   "cell_type": "code",
   "execution_count": 79,
   "metadata": {},
   "outputs": [
    {
     "name": "stdout",
     "output_type": "stream",
     "text": [
      "[['density', 'CTD'], ['velocity', 'ADCP'], ['chlorophyll', 'fluorometer'], ['salinity', 'CTD'], ['density', 'CTD'], ['velocity', 'ADCP'], ['chlorophyll', 'fluorometer'], ['salinity', 'CTD']]\n"
     ]
    }
   ],
   "source": [
    "print(2*cruise)"
   ]
  },
  {
   "cell_type": "code",
   "execution_count": 80,
   "metadata": {},
   "outputs": [
    {
     "name": "stdout",
     "output_type": "stream",
     "text": [
      "[['density', 'CTD'], ['velocity', 'ADCP'], ['chlorophyll', 'fluorometer'], ['salinity', 'CTD'], ['density', 'CTD'], ['velocity', 'ADCP'], ['chlorophyll', 'fluorometer'], ['salinity', 'CTD']]\n"
     ]
    }
   ],
   "source": [
    "print(cruise+cruise)"
   ]
  },
  {
   "cell_type": "code",
   "execution_count": 81,
   "metadata": {},
   "outputs": [
    {
     "name": "stdout",
     "output_type": "stream",
     "text": [
      "[1, 3]\n",
      "[1, 3, 5]\n"
     ]
    }
   ],
   "source": [
    "odds = [1,3]\n",
    "print(odds)\n",
    "odds.append(5)\n",
    "print(odds)"
   ]
  },
  {
   "cell_type": "code",
   "execution_count": 89,
   "metadata": {},
   "outputs": [
    {
     "name": "stdout",
     "output_type": "stream",
     "text": [
      "[1, 3, 5]\n"
     ]
    }
   ],
   "source": [
    "odds.reverse()\n",
    "print(odds)"
   ]
  },
  {
   "cell_type": "code",
   "execution_count": 92,
   "metadata": {},
   "outputs": [
    {
     "name": "stdout",
     "output_type": "stream",
     "text": [
      "['s']\n",
      "['s', 'u']\n",
      "['s', 'u', 'r']\n",
      "['s', 'u', 'r', 'f']\n"
     ]
    }
   ],
   "source": [
    "list = []\n",
    "for i in 'surf':\n",
    "    list = list + [i]\n",
    "    print(list)"
   ]
  },
  {
   "cell_type": "code",
   "execution_count": 93,
   "metadata": {},
   "outputs": [
    {
     "name": "stdout",
     "output_type": "stream",
     "text": [
      "['s']\n",
      "['s', 'u']\n",
      "['s', 'u', 'r']\n",
      "['s', 'u', 'r', 'f']\n"
     ]
    }
   ],
   "source": [
    "list = []\n",
    "for i in 'surf':\n",
    "    list.append(i)\n",
    "    print(list)"
   ]
  },
  {
   "cell_type": "code",
   "execution_count": 94,
   "metadata": {},
   "outputs": [
    {
     "name": "stdout",
     "output_type": "stream",
     "text": [
      "[['s', [...]]]\n",
      "[['s', [...]], ['u', [...]]]\n",
      "[['s', [...]], ['u', [...]], ['r', [...]]]\n",
      "[['s', [...]], ['u', [...]], ['r', [...]], ['f', [...]]]\n"
     ]
    }
   ],
   "source": [
    "list = []\n",
    "for i in 'surf':\n",
    "    list.append([i, list])\n",
    "    print(list)"
   ]
  },
  {
   "cell_type": "code",
   "execution_count": 95,
   "metadata": {},
   "outputs": [
    {
     "name": "stdout",
     "output_type": "stream",
     "text": [
      "['Tatooine', 'Naboo']\n"
     ]
    }
   ],
   "source": [
    "planets = ['Tatooine', 'Naboo', 'Arakis', 'Jupiter', 'Alderan']\n",
    "star_wars_planets = planets[0:2]\n",
    "print(star_wars_planets)"
   ]
  },
  {
   "cell_type": "code",
   "execution_count": 97,
   "metadata": {},
   "outputs": [
    {
     "name": "stdout",
     "output_type": "stream",
     "text": [
      "['Tatooine', 'Naboo', 'Arakis', 'Jupiter', 'Alderan']\n",
      "['Tatooine', 'Naboo', 'Hoth']\n"
     ]
    }
   ],
   "source": [
    "star_wars_planets.append('Hoth')\n",
    "print(planets)\n",
    "print(star_wars_planets)"
   ]
  },
  {
   "cell_type": "code",
   "execution_count": 99,
   "metadata": {},
   "outputs": [
    {
     "name": "stdout",
     "output_type": "stream",
     "text": [
      "2013\n",
      "[['chlorine', 'Cl'], ['bromine', 'Br'], ['iodine', 'I'], ['astatine', 'At']]\n"
     ]
    }
   ],
   "source": [
    "string_for_slicing = 'Observation date: 02-Feb-2013'\n",
    "list_for_slicing = [[\"fluorine\", \"F\"], [\"chlorine\", \"Cl\"], [\"bromine\", \"Br\"], [\"iodine\", \"I\"], [\"astatine\", \"At\"]]\n",
    "print(string_for_slicing[-4:])\n",
    "print(list_for_slicing[-4:])"
   ]
  },
  {
   "cell_type": "code",
   "execution_count": 102,
   "metadata": {},
   "outputs": [
    {
     "name": "stdout",
     "output_type": "stream",
     "text": [
      "I notpssgre ntesae\n"
     ]
    }
   ],
   "source": [
    "beatles = \"In an octopus's garden in the shade\"\n",
    "print(beatles[::2])"
   ]
  },
  {
   "cell_type": "code",
   "execution_count": 117,
   "metadata": {},
   "outputs": [
    {
     "name": "stdout",
     "output_type": "stream",
     "text": [
      "[['linear algebra', 'B'], ['philosophy', 'A+'], ['fluid dynamics', 'B+'], ['history', 'A+']]\n",
      "[['linear algebra', 'B'], ['philosophy', 'A+'], ['fluid dynamics', 'B+'], ['history', 'A+']]\n"
     ]
    }
   ],
   "source": [
    "spring_quarter = [['linear algebra', 'A'], ['philosophy', 'B-'], ['fluid dynamics', 'A+'], ['history', 'A-']]\n",
    "my_sq = spring_quarter.copy #list(something) is the same as [something] but it only propagates the outer list, not the nested lists\n",
    "my_sq[0][1] = 'B'\n",
    "my_sq[1][1] = 'A+'\n",
    "my_sq[2][1] = 'B+'\n",
    "my_sq[3][1] = 'A+'\n",
    "print(my_sq)\n",
    "print(spring_quarter)"
   ]
  },
  {
   "cell_type": "code",
   "execution_count": 116,
   "metadata": {},
   "outputs": [
    {
     "name": "stdout",
     "output_type": "stream",
     "text": [
      "['linear algebra', 'philosophy', 'fluid dynamics', 'history']\n",
      "['B', 'A+', 'B+', 'A+']\n"
     ]
    }
   ],
   "source": [
    "classes = []\n",
    "grades = []\n",
    "for i in my_sq:\n",
    "    classes = classes + [i[0]]\n",
    "    grades = grades + [i[1]]\n",
    "print(classes)\n",
    "print(grades)"
   ]
  },
  {
   "cell_type": "code",
   "execution_count": 118,
   "metadata": {},
   "outputs": [
    {
     "name": "stdout",
     "output_type": "stream",
     "text": [
      "My grades are: ['B', 'A+', 'B+', 'A+']\n",
      "My classes are: ['linear algebra', 'philosophy', 'fluid dynamics', 'history']\n"
     ]
    }
   ],
   "source": [
    "print('My grades are:', grades)\n",
    "print('My classes are:', classes)"
   ]
  },
  {
   "cell_type": "code",
   "execution_count": 120,
   "metadata": {},
   "outputs": [
    {
     "name": "stdout",
     "output_type": "stream",
     "text": [
      "<class 'bool'>\n"
     ]
    }
   ],
   "source": [
    "var = 5\n",
    "print(type(5 == 4))"
   ]
  },
  {
   "cell_type": "code",
   "execution_count": 124,
   "metadata": {},
   "outputs": [
    {
     "name": "stdout",
     "output_type": "stream",
     "text": [
      "3.54 is larger than 3.0\n"
     ]
    }
   ],
   "source": [
    "mass = 3.54\n",
    "if mass > 3.0:\n",
    "    print(mass, 'is larger than 3.0')"
   ]
  },
  {
   "cell_type": "code",
   "execution_count": 125,
   "metadata": {},
   "outputs": [
    {
     "name": "stdout",
     "output_type": "stream",
     "text": [
      "False\n"
     ]
    }
   ],
   "source": [
    "mass = 2.1\n",
    "print(mass>3.1)"
   ]
  },
  {
   "cell_type": "code",
   "execution_count": 128,
   "metadata": {},
   "outputs": [
    {
     "name": "stdout",
     "output_type": "stream",
     "text": [
      "782 is\n",
      "greater than 100\n",
      "done\n"
     ]
    }
   ],
   "source": [
    "num = 782\n",
    "print(num, 'is')\n",
    "if num > 100:\n",
    "    print('greater than 100')\n",
    "else:\n",
    "    print('not greater than 100')\n",
    "print('done')"
   ]
  },
  {
   "cell_type": "code",
   "execution_count": 129,
   "metadata": {},
   "outputs": [
    {
     "name": "stdout",
     "output_type": "stream",
     "text": [
      "2.1 is not greater\n"
     ]
    }
   ],
   "source": [
    "if mass > 3.0:\n",
    "    print(mass, 'is greater')\n",
    "else:\n",
    "    print(mass, 'is not greater')"
   ]
  },
  {
   "cell_type": "code",
   "execution_count": 130,
   "metadata": {},
   "outputs": [
    {
     "name": "stdout",
     "output_type": "stream",
     "text": [
      "5.0 is greater\n"
     ]
    }
   ],
   "source": [
    "mass = 5.0\n",
    "if mass > 3.0:\n",
    "    print(mass, 'is greater')\n",
    "else:\n",
    "    print(mass, 'is not greater')"
   ]
  },
  {
   "cell_type": "code",
   "execution_count": 133,
   "metadata": {},
   "outputs": [
    {
     "name": "stdout",
     "output_type": "stream",
     "text": [
      "2 is less\n"
     ]
    }
   ],
   "source": [
    "mass = 2\n",
    "if mass > 3.0:\n",
    "    print(mass, 'is greater')\n",
    "elif mass == 3:\n",
    "    print(mass, 'is equal')\n",
    "else:\n",
    "    print(mass, 'is less')\n",
    "    "
   ]
  },
  {
   "cell_type": "code",
   "execution_count": 142,
   "metadata": {},
   "outputs": [
    {
     "name": "stdout",
     "output_type": "stream",
     "text": [
      "3.54 is large\n",
      "2.07 is small\n",
      "9.22 is HUGE\n",
      "1.86 is small\n",
      "1.71 is small\n",
      "[9.22] [3.54] [2.07, 1.86, 1.71]\n"
     ]
    }
   ],
   "source": [
    "masses = [3.54, 2.07, 9.22, 1.86, 1.71]\n",
    "small = []\n",
    "large = []\n",
    "HUGE = []\n",
    "for m in masses:\n",
    "    if m > 9.0:\n",
    "        HUGE.append(m)\n",
    "        print(m, 'is HUGE')\n",
    "    elif m>3:\n",
    "        large.append(m)\n",
    "        print(m, 'is large')\n",
    "    else:\n",
    "        small.append(m)\n",
    "        print(m, 'is small')\n",
    "print(HUGE, large, small)"
   ]
  },
  {
   "cell_type": "code",
   "execution_count": 140,
   "metadata": {},
   "outputs": [
    {
     "name": "stdout",
     "output_type": "stream",
     "text": [
      "grade is B\n"
     ]
    }
   ],
   "source": [
    "grade = 85\n",
    "\n",
    "if grade >= 90:\n",
    "    print('grade is A')\n",
    "elif grade >= 80:\n",
    "    print('grade is B')\n",
    "elif grade >= 70:\n",
    "    print('grade is C')\n",
    "\n"
   ]
  },
  {
   "cell_type": "code",
   "execution_count": 143,
   "metadata": {},
   "outputs": [],
   "source": [
    "import numpy as np\n",
    "import matplotlib.pyplot as plt\n",
    "import glob"
   ]
  },
  {
   "cell_type": "code",
   "execution_count": 152,
   "metadata": {},
   "outputs": [
    {
     "name": "stdout",
     "output_type": "stream",
     "text": [
      "../data\\chlorophyll-01.csv looks ok\n",
      "../data\\chlorophyll-02.csv has a problem: negative mean\n",
      "../data\\chlorophyll-03.csv looks ok\n",
      "../data\\chlorophyll-04.csv looks ok\n",
      "../data\\chlorophyll-05.csv looks ok\n",
      "../data\\chlorophyll-06.csv looks ok\n",
      "../data\\chlorophyll-07.csv looks ok\n",
      "../data\\chlorophyll-08.csv looks ok\n",
      "../data\\chlorophyll-09.csv looks ok\n",
      "../data\\chlorophyll-10.csv looks ok\n",
      "../data\\chlorophyll-11.csv looks ok\n",
      "../data\\chlorophyll-12.csv looks ok\n"
     ]
    }
   ],
   "source": [
    "files = sorted(glob.glob('../data/chlorophyll-*.csv'))\n",
    "\n",
    "for f in files:\n",
    "    data = np.loadtxt(f, delimiter=',')\n",
    "    mean_data = np.mean(data)\n",
    "    if mean_data < 0:\n",
    "        print(f, 'has a problem: negative mean')\n",
    "    else:\n",
    "        print(f, 'looks ok')\n",
    "#     ave_profile = np.mean(data, axis=0)\n",
    "#     fig = plt.figure(figsize=(8,8))\n",
    "#     ax = fig.add_subplot(111)\n",
    "#     ax.plot(ave_profile)"
   ]
  },
  {
   "cell_type": "code",
   "execution_count": 174,
   "metadata": {},
   "outputs": [
    {
     "data": {
      "text/plain": [
       "Text(0.5, 1.0, 'Mean Profile Across All Missions')"
      ]
     },
     "execution_count": 174,
     "metadata": {},
     "output_type": "execute_result"
    },
    {
     "data": {
      "image/png": "[encoded data removed]",
      "text/plain": [
       "<Figure size 432x288 with 1 Axes>"
      ]
     },
     "metadata": {
      "needs_background": "light"
     },
     "output_type": "display_data"
    }
   ],
   "source": [
    "import numpy as np\n",
    "import matplotlib.pyplot as plt\n",
    "import glob\n",
    "\n",
    "depth = np. arange(-10, -310, -10)\n",
    "all_means = [] #epty list to collect profiles\n",
    "\n",
    "for f in files:\n",
    "    data = np.loadtxt(f, delimiter=',')\n",
    "    ave_profile = np.mean(data, axis=0) #Average profile for a single mission\n",
    "    mean_data = np.mean(data) #overall mean of a single mission\n",
    "    if mean_data > 0: #chl needs to be positive\n",
    "        all_means.append(ave_profile) #if mean is positive, then append\n",
    "        \n",
    "mean_profile = np.array(all_means)\n",
    "fig = plt.figure()\n",
    "ax = fig.add_subplot(111)\n",
    "ax.plot(np.mean(mean_profile, axis=0), depth)\n",
    "ax.set_ylabel('Depth [m]', fontsize=14)\n",
    "ax.set_xlabel('Chl [mg/m^3]', fontsize=14)\n",
    "ax.set_title('Mean Profile Across All Missions', fontsize=16)"
   ]
  },
  {
   "cell_type": "code",
   "execution_count": null,
   "metadata": {},
   "outputs": [],
   "source": []
  },
  {
   "cell_type": "code",
   "execution_count": null,
   "metadata": {},
   "outputs": [],
   "source": []
  }
 ],
 "metadata": {
  "kernelspec": {
   "display_name": "Python 3",
   "language": "python",
   "name": "python3"
  },
  "language_info": {
   "codemirror_mode": {
    "name": "ipython",
    "version": 3
   },
   "file_extension": ".py",
   "mimetype": "text/x-python",
   "name": "python",
   "nbconvert_exporter": "python",
   "pygments_lexer": "ipython3",
   "version": "3.7.3"
  }
 },
 "nbformat": 4,
 "nbformat_minor": 2
}
